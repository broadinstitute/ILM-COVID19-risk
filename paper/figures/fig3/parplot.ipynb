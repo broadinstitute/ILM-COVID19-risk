{
 "cells": [
  {
   "cell_type": "code",
   "execution_count": 5,
   "metadata": {},
   "outputs": [],
   "source": [
    "import pandas as pd\n",
    "import numpy as np\n",
    "import matplotlib.pyplot as plt\n",
    "%matplotlib inline"
   ]
  },
  {
   "cell_type": "code",
   "execution_count": 16,
   "metadata": {},
   "outputs": [],
   "source": [
    "def plot_errors(df, pt, fn):\n",
    "    fig, _ = plt.subplots(figsize=(6,2))\n",
    "    x = np.arange(4)\n",
    "    y = np.array([0] * 4)\n",
    "    t = np.array(df[\"norm_true\"])\n",
    "    yerr = np.array(df[\"sdev_ratio\"])\n",
    "    plt.title(pt, fontsize=12)\n",
    "    plt.errorbar(x, y, yerr=yerr, capsize=5, elinewidth=2, markeredgewidth=2, zorder=1)\n",
    "    plt.scatter(x, t, color='red', zorder=2)\n",
    "    plt.xticks(x, (r'$c_{00}$', r'$c_{01}$', r'$c_{10}$', r'$c_{11}$'))\n",
    "    plt.show()\n",
    "    fig.savefig(fn)    "
   ]
  },
  {
   "cell_type": "code",
   "execution_count": 17,
   "metadata": {},
   "outputs": [],
   "source": [
    "dfa = pd.read_csv(\"table1a.csv\")\n",
    "dfb = pd.read_csv(\"table1b.csv\")\n",
    "dfc = pd.read_csv(\"table1c.csv\")"
   ]
  },
  {
   "cell_type": "code",
   "execution_count": 18,
   "metadata": {},
   "outputs": [
    {
     "name": "stdout",
     "output_type": "stream",
     "text": [
      "  Unnamed: 0  True value  MLE mean  MLE sdev  sdev_ratio  norm_true\n",
      "0        c00        0.04     0.063     0.036    0.571429  -0.365079\n",
      "1        c01        0.40     0.839     0.411    0.489869  -0.523242\n",
      "2        c10        0.40     0.603     0.346    0.573798  -0.336650\n",
      "3        c11        4.00     5.452     1.825    0.334740  -0.266324\n"
     ]
    },
    {
     "data": {
      "image/png": "[encoded data removed]",
      "text/plain": [
       "<Figure size 432x144 with 1 Axes>"
      ]
     },
     "metadata": {
      "needs_background": "light"
     },
     "output_type": "display_data"
    }
   ],
   "source": [
    "dfa[\"sdev_ratio\"] = dfa['MLE sdev']/dfa['MLE mean']\n",
    "dfa[\"norm_true\"] = (dfa[\"True value\"] - dfa[\"MLE mean\"])/dfa['MLE mean']\n",
    "print(dfa)\n",
    "plot_errors(dfa, \"Set 1\", \"table1a.pdf\")"
   ]
  },
  {
   "cell_type": "code",
   "execution_count": 19,
   "metadata": {},
   "outputs": [
    {
     "name": "stdout",
     "output_type": "stream",
     "text": [
      "  Unnamed: 0  True value  MLE mean  MLE sdev  sdev_ratio  norm_true\n",
      "0        c00        0.25     0.629     0.216    0.343402  -0.602544\n",
      "1        c01        0.40     0.347     0.384    1.106628   0.152738\n",
      "2        c10        0.75     1.690     0.538    0.318343  -0.556213\n",
      "3        c11        1.20     1.438     0.667    0.463839  -0.165508\n"
     ]
    },
    {
     "data": {
      "image/png": "[encoded data removed]",
      "text/plain": [
       "<Figure size 432x144 with 1 Axes>"
      ]
     },
     "metadata": {
      "needs_background": "light"
     },
     "output_type": "display_data"
    }
   ],
   "source": [
    "dfb[\"sdev_ratio\"] = dfb['MLE sdev']/dfb['MLE mean']\n",
    "dfb[\"norm_true\"] = (dfb[\"True value\"] - dfb[\"MLE mean\"])/dfb['MLE mean']\n",
    "print(dfb)\n",
    "plot_errors(dfb, \"Set 2\", \"table1b.pdf\")"
   ]
  },
  {
   "cell_type": "code",
   "execution_count": 20,
   "metadata": {},
   "outputs": [
    {
     "name": "stdout",
     "output_type": "stream",
     "text": [
      "  Unnamed: 0  True value  MLE mean  MLE sdev  sdev_ratio  norm_true\n",
      "0        c00         1.0     0.381     0.120    0.314961   1.624672\n",
      "1        c01         1.0     1.409     0.322    0.228531  -0.290277\n",
      "2        c10         2.0     2.088     0.901    0.431513  -0.042146\n",
      "3        c11         2.0     2.113     1.218    0.576432  -0.053478\n"
     ]
    },
    {
     "data": {
      "image/png": "[encoded data removed]",
      "text/plain": [
       "<Figure size 432x144 with 1 Axes>"
      ]
     },
     "metadata": {
      "needs_background": "light"
     },
     "output_type": "display_data"
    }
   ],
   "source": [
    "dfc[\"sdev_ratio\"] = dfc['MLE sdev']/dfc['MLE mean']\n",
    "dfc[\"norm_true\"] = (dfc[\"True value\"] - dfc[\"MLE mean\"])/dfc['MLE mean']\n",
    "print(dfc)\n",
    "plot_errors(dfc, \"Set 3\", \"table1c.pdf\")"
   ]
  }
 ],
 "metadata": {
  "kernelspec": {
   "display_name": "Python 3",
   "language": "python",
   "name": "python3"
  },
  "language_info": {
   "codemirror_mode": {
    "name": "ipython",
    "version": 3
   },
   "file_extension": ".py",
   "mimetype": "text/x-python",
   "name": "python",
   "nbconvert_exporter": "python",
   "pygments_lexer": "ipython3",
   "version": "3.7.6"
  }
 },
 "nbformat": 4,
 "nbformat_minor": 4
}
